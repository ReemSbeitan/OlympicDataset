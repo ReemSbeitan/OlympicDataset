{
 "cells": [
  {
   "cell_type": "code",
   "execution_count": 1,
   "id": "d301e101",
   "metadata": {
    "_cell_guid": "b1076dfc-b9ad-4769-8c92-a6c4dae69d19",
    "_uuid": "8f2839f25d086af736a60e9eeb907d3b93b6e0e5",
    "execution": {
     "iopub.execute_input": "2023-03-24T20:38:24.705943Z",
     "iopub.status.busy": "2023-03-24T20:38:24.705299Z",
     "iopub.status.idle": "2023-03-24T20:38:26.019787Z",
     "shell.execute_reply": "2023-03-24T20:38:26.018000Z"
    },
    "papermill": {
     "duration": 1.327679,
     "end_time": "2023-03-24T20:38:26.023584",
     "exception": false,
     "start_time": "2023-03-24T20:38:24.695905",
     "status": "completed"
    },
    "tags": []
   },
   "outputs": [],
   "source": [
    "import numpy as np\n",
    "import pandas as pd\n",
    "import seaborn as sns\n",
    "from matplotlib import pyplot as plt\n",
    "import os"
   ]
  },
  {
   "cell_type": "markdown",
   "id": "3b84777c",
   "metadata": {
    "papermill": {
     "duration": 0.005742,
     "end_time": "2023-03-24T20:38:26.035691",
     "exception": false,
     "start_time": "2023-03-24T20:38:26.029949",
     "status": "completed"
    },
    "tags": []
   },
   "source": [
    "# 1. Data Importing"
   ]
  },
  {
   "cell_type": "code",
   "execution_count": 2,
   "id": "7104851f",
   "metadata": {
    "execution": {
     "iopub.execute_input": "2023-03-24T20:38:26.050600Z",
     "iopub.status.busy": "2023-03-24T20:38:26.050122Z",
     "iopub.status.idle": "2023-03-24T20:38:27.446561Z",
     "shell.execute_reply": "2023-03-24T20:38:27.444684Z"
    },
    "papermill": {
     "duration": 1.408245,
     "end_time": "2023-03-24T20:38:27.449917",
     "exception": false,
     "start_time": "2023-03-24T20:38:26.041672",
     "status": "completed"
    },
    "tags": []
   },
   "outputs": [],
   "source": [
    "data = pd.read_csv('../input/120-years-of-olympic-history-athletes-and-results/athlete_events.csv')\n",
    "regions = pd.read_csv('../input/120-years-of-olympic-history-athletes-and-results/noc_regions.csv')"
   ]
  },
  {
   "cell_type": "markdown",
   "id": "c2f3c446",
   "metadata": {
    "papermill": {
     "duration": 0.005384,
     "end_time": "2023-03-24T20:38:27.461342",
     "exception": false,
     "start_time": "2023-03-24T20:38:27.455958",
     "status": "completed"
    },
    "tags": []
   },
   "source": [
    "# 2. Collecting information about the two dataset¶\n"
   ]
  },
  {
   "cell_type": "code",
   "execution_count": 3,
   "id": "d174a7fd",
   "metadata": {
    "execution": {
     "iopub.execute_input": "2023-03-24T20:38:27.476708Z",
     "iopub.status.busy": "2023-03-24T20:38:27.474674Z",
     "iopub.status.idle": "2023-03-24T20:38:27.517564Z",
     "shell.execute_reply": "2023-03-24T20:38:27.515772Z"
    },
    "papermill": {
     "duration": 0.05428,
     "end_time": "2023-03-24T20:38:27.521344",
     "exception": false,
     "start_time": "2023-03-24T20:38:27.467064",
     "status": "completed"
    },
    "tags": []
   },
   "outputs": [
    {
     "data": {
      "text/html": [
       "<div>\n",
       "<style scoped>\n",
       "    .dataframe tbody tr th:only-of-type {\n",
       "        vertical-align: middle;\n",
       "    }\n",
       "\n",
       "    .dataframe tbody tr th {\n",
       "        vertical-align: top;\n",
       "    }\n",
       "\n",
       "    .dataframe thead th {\n",
       "        text-align: right;\n",
       "    }\n",
       "</style>\n",
       "<table border=\"1\" class=\"dataframe\">\n",
       "  <thead>\n",
       "    <tr style=\"text-align: right;\">\n",
       "      <th></th>\n",
       "      <th>ID</th>\n",
       "      <th>Name</th>\n",
       "      <th>Sex</th>\n",
       "      <th>Age</th>\n",
       "      <th>Height</th>\n",
       "      <th>Weight</th>\n",
       "      <th>Team</th>\n",
       "      <th>NOC</th>\n",
       "      <th>Games</th>\n",
       "      <th>Year</th>\n",
       "      <th>Season</th>\n",
       "      <th>City</th>\n",
       "      <th>Sport</th>\n",
       "      <th>Event</th>\n",
       "      <th>Medal</th>\n",
       "    </tr>\n",
       "  </thead>\n",
       "  <tbody>\n",
       "    <tr>\n",
       "      <th>0</th>\n",
       "      <td>1</td>\n",
       "      <td>A Dijiang</td>\n",
       "      <td>M</td>\n",
       "      <td>24.0</td>\n",
       "      <td>180.0</td>\n",
       "      <td>80.0</td>\n",
       "      <td>China</td>\n",
       "      <td>CHN</td>\n",
       "      <td>1992 Summer</td>\n",
       "      <td>1992</td>\n",
       "      <td>Summer</td>\n",
       "      <td>Barcelona</td>\n",
       "      <td>Basketball</td>\n",
       "      <td>Basketball Men's Basketball</td>\n",
       "      <td>NaN</td>\n",
       "    </tr>\n",
       "    <tr>\n",
       "      <th>1</th>\n",
       "      <td>2</td>\n",
       "      <td>A Lamusi</td>\n",
       "      <td>M</td>\n",
       "      <td>23.0</td>\n",
       "      <td>170.0</td>\n",
       "      <td>60.0</td>\n",
       "      <td>China</td>\n",
       "      <td>CHN</td>\n",
       "      <td>2012 Summer</td>\n",
       "      <td>2012</td>\n",
       "      <td>Summer</td>\n",
       "      <td>London</td>\n",
       "      <td>Judo</td>\n",
       "      <td>Judo Men's Extra-Lightweight</td>\n",
       "      <td>NaN</td>\n",
       "    </tr>\n",
       "    <tr>\n",
       "      <th>2</th>\n",
       "      <td>3</td>\n",
       "      <td>Gunnar Nielsen Aaby</td>\n",
       "      <td>M</td>\n",
       "      <td>24.0</td>\n",
       "      <td>NaN</td>\n",
       "      <td>NaN</td>\n",
       "      <td>Denmark</td>\n",
       "      <td>DEN</td>\n",
       "      <td>1920 Summer</td>\n",
       "      <td>1920</td>\n",
       "      <td>Summer</td>\n",
       "      <td>Antwerpen</td>\n",
       "      <td>Football</td>\n",
       "      <td>Football Men's Football</td>\n",
       "      <td>NaN</td>\n",
       "    </tr>\n",
       "    <tr>\n",
       "      <th>3</th>\n",
       "      <td>4</td>\n",
       "      <td>Edgar Lindenau Aabye</td>\n",
       "      <td>M</td>\n",
       "      <td>34.0</td>\n",
       "      <td>NaN</td>\n",
       "      <td>NaN</td>\n",
       "      <td>Denmark/Sweden</td>\n",
       "      <td>DEN</td>\n",
       "      <td>1900 Summer</td>\n",
       "      <td>1900</td>\n",
       "      <td>Summer</td>\n",
       "      <td>Paris</td>\n",
       "      <td>Tug-Of-War</td>\n",
       "      <td>Tug-Of-War Men's Tug-Of-War</td>\n",
       "      <td>Gold</td>\n",
       "    </tr>\n",
       "    <tr>\n",
       "      <th>4</th>\n",
       "      <td>5</td>\n",
       "      <td>Christine Jacoba Aaftink</td>\n",
       "      <td>F</td>\n",
       "      <td>21.0</td>\n",
       "      <td>185.0</td>\n",
       "      <td>82.0</td>\n",
       "      <td>Netherlands</td>\n",
       "      <td>NED</td>\n",
       "      <td>1988 Winter</td>\n",
       "      <td>1988</td>\n",
       "      <td>Winter</td>\n",
       "      <td>Calgary</td>\n",
       "      <td>Speed Skating</td>\n",
       "      <td>Speed Skating Women's 500 metres</td>\n",
       "      <td>NaN</td>\n",
       "    </tr>\n",
       "  </tbody>\n",
       "</table>\n",
       "</div>"
      ],
      "text/plain": [
       "   ID                      Name Sex   Age  Height  Weight            Team  \\\n",
       "0   1                 A Dijiang   M  24.0   180.0    80.0           China   \n",
       "1   2                  A Lamusi   M  23.0   170.0    60.0           China   \n",
       "2   3       Gunnar Nielsen Aaby   M  24.0     NaN     NaN         Denmark   \n",
       "3   4      Edgar Lindenau Aabye   M  34.0     NaN     NaN  Denmark/Sweden   \n",
       "4   5  Christine Jacoba Aaftink   F  21.0   185.0    82.0     Netherlands   \n",
       "\n",
       "   NOC        Games  Year  Season       City          Sport  \\\n",
       "0  CHN  1992 Summer  1992  Summer  Barcelona     Basketball   \n",
       "1  CHN  2012 Summer  2012  Summer     London           Judo   \n",
       "2  DEN  1920 Summer  1920  Summer  Antwerpen       Football   \n",
       "3  DEN  1900 Summer  1900  Summer      Paris     Tug-Of-War   \n",
       "4  NED  1988 Winter  1988  Winter    Calgary  Speed Skating   \n",
       "\n",
       "                              Event Medal  \n",
       "0       Basketball Men's Basketball   NaN  \n",
       "1      Judo Men's Extra-Lightweight   NaN  \n",
       "2           Football Men's Football   NaN  \n",
       "3       Tug-Of-War Men's Tug-Of-War  Gold  \n",
       "4  Speed Skating Women's 500 metres   NaN  "
      ]
     },
     "execution_count": 3,
     "metadata": {},
     "output_type": "execute_result"
    }
   ],
   "source": [
    "data.head(5)"
   ]
  },
  {
   "cell_type": "code",
   "execution_count": 4,
   "id": "6a4a7a12",
   "metadata": {
    "execution": {
     "iopub.execute_input": "2023-03-24T20:38:27.536338Z",
     "iopub.status.busy": "2023-03-24T20:38:27.535822Z",
     "iopub.status.idle": "2023-03-24T20:38:27.676432Z",
     "shell.execute_reply": "2023-03-24T20:38:27.674898Z"
    },
    "papermill": {
     "duration": 0.152183,
     "end_time": "2023-03-24T20:38:27.679957",
     "exception": false,
     "start_time": "2023-03-24T20:38:27.527774",
     "status": "completed"
    },
    "tags": []
   },
   "outputs": [
    {
     "data": {
      "text/html": [
       "<div>\n",
       "<style scoped>\n",
       "    .dataframe tbody tr th:only-of-type {\n",
       "        vertical-align: middle;\n",
       "    }\n",
       "\n",
       "    .dataframe tbody tr th {\n",
       "        vertical-align: top;\n",
       "    }\n",
       "\n",
       "    .dataframe thead th {\n",
       "        text-align: right;\n",
       "    }\n",
       "</style>\n",
       "<table border=\"1\" class=\"dataframe\">\n",
       "  <thead>\n",
       "    <tr style=\"text-align: right;\">\n",
       "      <th></th>\n",
       "      <th>ID</th>\n",
       "      <th>Age</th>\n",
       "      <th>Height</th>\n",
       "      <th>Weight</th>\n",
       "      <th>Year</th>\n",
       "    </tr>\n",
       "  </thead>\n",
       "  <tbody>\n",
       "    <tr>\n",
       "      <th>count</th>\n",
       "      <td>271116.000000</td>\n",
       "      <td>261642.000000</td>\n",
       "      <td>210945.000000</td>\n",
       "      <td>208241.000000</td>\n",
       "      <td>271116.000000</td>\n",
       "    </tr>\n",
       "    <tr>\n",
       "      <th>mean</th>\n",
       "      <td>68248.954396</td>\n",
       "      <td>25.556898</td>\n",
       "      <td>175.338970</td>\n",
       "      <td>70.702393</td>\n",
       "      <td>1978.378480</td>\n",
       "    </tr>\n",
       "    <tr>\n",
       "      <th>std</th>\n",
       "      <td>39022.286345</td>\n",
       "      <td>6.393561</td>\n",
       "      <td>10.518462</td>\n",
       "      <td>14.348020</td>\n",
       "      <td>29.877632</td>\n",
       "    </tr>\n",
       "    <tr>\n",
       "      <th>min</th>\n",
       "      <td>1.000000</td>\n",
       "      <td>10.000000</td>\n",
       "      <td>127.000000</td>\n",
       "      <td>25.000000</td>\n",
       "      <td>1896.000000</td>\n",
       "    </tr>\n",
       "    <tr>\n",
       "      <th>25%</th>\n",
       "      <td>34643.000000</td>\n",
       "      <td>21.000000</td>\n",
       "      <td>168.000000</td>\n",
       "      <td>60.000000</td>\n",
       "      <td>1960.000000</td>\n",
       "    </tr>\n",
       "    <tr>\n",
       "      <th>50%</th>\n",
       "      <td>68205.000000</td>\n",
       "      <td>24.000000</td>\n",
       "      <td>175.000000</td>\n",
       "      <td>70.000000</td>\n",
       "      <td>1988.000000</td>\n",
       "    </tr>\n",
       "    <tr>\n",
       "      <th>75%</th>\n",
       "      <td>102097.250000</td>\n",
       "      <td>28.000000</td>\n",
       "      <td>183.000000</td>\n",
       "      <td>79.000000</td>\n",
       "      <td>2002.000000</td>\n",
       "    </tr>\n",
       "    <tr>\n",
       "      <th>max</th>\n",
       "      <td>135571.000000</td>\n",
       "      <td>97.000000</td>\n",
       "      <td>226.000000</td>\n",
       "      <td>214.000000</td>\n",
       "      <td>2016.000000</td>\n",
       "    </tr>\n",
       "  </tbody>\n",
       "</table>\n",
       "</div>"
      ],
      "text/plain": [
       "                  ID            Age         Height         Weight  \\\n",
       "count  271116.000000  261642.000000  210945.000000  208241.000000   \n",
       "mean    68248.954396      25.556898     175.338970      70.702393   \n",
       "std     39022.286345       6.393561      10.518462      14.348020   \n",
       "min         1.000000      10.000000     127.000000      25.000000   \n",
       "25%     34643.000000      21.000000     168.000000      60.000000   \n",
       "50%     68205.000000      24.000000     175.000000      70.000000   \n",
       "75%    102097.250000      28.000000     183.000000      79.000000   \n",
       "max    135571.000000      97.000000     226.000000     214.000000   \n",
       "\n",
       "                Year  \n",
       "count  271116.000000  \n",
       "mean     1978.378480  \n",
       "std        29.877632  \n",
       "min      1896.000000  \n",
       "25%      1960.000000  \n",
       "50%      1988.000000  \n",
       "75%      2002.000000  \n",
       "max      2016.000000  "
      ]
     },
     "execution_count": 4,
     "metadata": {},
     "output_type": "execute_result"
    }
   ],
   "source": [
    "data.describe()"
   ]
  },
  {
   "cell_type": "code",
   "execution_count": 5,
   "id": "5c361c43",
   "metadata": {
    "execution": {
     "iopub.execute_input": "2023-03-24T20:38:27.695062Z",
     "iopub.status.busy": "2023-03-24T20:38:27.694578Z",
     "iopub.status.idle": "2023-03-24T20:38:27.850743Z",
     "shell.execute_reply": "2023-03-24T20:38:27.848925Z"
    },
    "papermill": {
     "duration": 0.167546,
     "end_time": "2023-03-24T20:38:27.854087",
     "exception": false,
     "start_time": "2023-03-24T20:38:27.686541",
     "status": "completed"
    },
    "tags": []
   },
   "outputs": [
    {
     "name": "stdout",
     "output_type": "stream",
     "text": [
      "<class 'pandas.core.frame.DataFrame'>\n",
      "RangeIndex: 271116 entries, 0 to 271115\n",
      "Data columns (total 15 columns):\n",
      " #   Column  Non-Null Count   Dtype  \n",
      "---  ------  --------------   -----  \n",
      " 0   ID      271116 non-null  int64  \n",
      " 1   Name    271116 non-null  object \n",
      " 2   Sex     271116 non-null  object \n",
      " 3   Age     261642 non-null  float64\n",
      " 4   Height  210945 non-null  float64\n",
      " 5   Weight  208241 non-null  float64\n",
      " 6   Team    271116 non-null  object \n",
      " 7   NOC     271116 non-null  object \n",
      " 8   Games   271116 non-null  object \n",
      " 9   Year    271116 non-null  int64  \n",
      " 10  Season  271116 non-null  object \n",
      " 11  City    271116 non-null  object \n",
      " 12  Sport   271116 non-null  object \n",
      " 13  Event   271116 non-null  object \n",
      " 14  Medal   39783 non-null   object \n",
      "dtypes: float64(3), int64(2), object(10)\n",
      "memory usage: 31.0+ MB\n"
     ]
    }
   ],
   "source": [
    "data.info()"
   ]
  },
  {
   "cell_type": "code",
   "execution_count": 6,
   "id": "7d080217",
   "metadata": {
    "execution": {
     "iopub.execute_input": "2023-03-24T20:38:27.870871Z",
     "iopub.status.busy": "2023-03-24T20:38:27.870341Z",
     "iopub.status.idle": "2023-03-24T20:38:27.885740Z",
     "shell.execute_reply": "2023-03-24T20:38:27.883983Z"
    },
    "papermill": {
     "duration": 0.027184,
     "end_time": "2023-03-24T20:38:27.888775",
     "exception": false,
     "start_time": "2023-03-24T20:38:27.861591",
     "status": "completed"
    },
    "tags": []
   },
   "outputs": [
    {
     "data": {
      "text/html": [
       "<div>\n",
       "<style scoped>\n",
       "    .dataframe tbody tr th:only-of-type {\n",
       "        vertical-align: middle;\n",
       "    }\n",
       "\n",
       "    .dataframe tbody tr th {\n",
       "        vertical-align: top;\n",
       "    }\n",
       "\n",
       "    .dataframe thead th {\n",
       "        text-align: right;\n",
       "    }\n",
       "</style>\n",
       "<table border=\"1\" class=\"dataframe\">\n",
       "  <thead>\n",
       "    <tr style=\"text-align: right;\">\n",
       "      <th></th>\n",
       "      <th>NOC</th>\n",
       "      <th>region</th>\n",
       "      <th>notes</th>\n",
       "    </tr>\n",
       "  </thead>\n",
       "  <tbody>\n",
       "    <tr>\n",
       "      <th>0</th>\n",
       "      <td>AFG</td>\n",
       "      <td>Afghanistan</td>\n",
       "      <td>NaN</td>\n",
       "    </tr>\n",
       "    <tr>\n",
       "      <th>1</th>\n",
       "      <td>AHO</td>\n",
       "      <td>Curacao</td>\n",
       "      <td>Netherlands Antilles</td>\n",
       "    </tr>\n",
       "    <tr>\n",
       "      <th>2</th>\n",
       "      <td>ALB</td>\n",
       "      <td>Albania</td>\n",
       "      <td>NaN</td>\n",
       "    </tr>\n",
       "    <tr>\n",
       "      <th>3</th>\n",
       "      <td>ALG</td>\n",
       "      <td>Algeria</td>\n",
       "      <td>NaN</td>\n",
       "    </tr>\n",
       "    <tr>\n",
       "      <th>4</th>\n",
       "      <td>AND</td>\n",
       "      <td>Andorra</td>\n",
       "      <td>NaN</td>\n",
       "    </tr>\n",
       "  </tbody>\n",
       "</table>\n",
       "</div>"
      ],
      "text/plain": [
       "   NOC       region                 notes\n",
       "0  AFG  Afghanistan                   NaN\n",
       "1  AHO      Curacao  Netherlands Antilles\n",
       "2  ALB      Albania                   NaN\n",
       "3  ALG      Algeria                   NaN\n",
       "4  AND      Andorra                   NaN"
      ]
     },
     "execution_count": 6,
     "metadata": {},
     "output_type": "execute_result"
    }
   ],
   "source": [
    "regions.head(5)"
   ]
  },
  {
   "cell_type": "code",
   "execution_count": 7,
   "id": "029eeea7",
   "metadata": {
    "execution": {
     "iopub.execute_input": "2023-03-24T20:38:27.904689Z",
     "iopub.status.busy": "2023-03-24T20:38:27.904193Z",
     "iopub.status.idle": "2023-03-24T20:38:27.920461Z",
     "shell.execute_reply": "2023-03-24T20:38:27.917937Z"
    },
    "papermill": {
     "duration": 0.027868,
     "end_time": "2023-03-24T20:38:27.923477",
     "exception": false,
     "start_time": "2023-03-24T20:38:27.895609",
     "status": "completed"
    },
    "tags": []
   },
   "outputs": [
    {
     "name": "stdout",
     "output_type": "stream",
     "text": [
      "<class 'pandas.core.frame.DataFrame'>\n",
      "RangeIndex: 230 entries, 0 to 229\n",
      "Data columns (total 3 columns):\n",
      " #   Column  Non-Null Count  Dtype \n",
      "---  ------  --------------  ----- \n",
      " 0   NOC     230 non-null    object\n",
      " 1   region  227 non-null    object\n",
      " 2   notes   21 non-null     object\n",
      "dtypes: object(3)\n",
      "memory usage: 5.5+ KB\n"
     ]
    }
   ],
   "source": [
    "regions.info()"
   ]
  },
  {
   "cell_type": "markdown",
   "id": "28f25904",
   "metadata": {
    "papermill": {
     "duration": 0.006223,
     "end_time": "2023-03-24T20:38:27.936939",
     "exception": false,
     "start_time": "2023-03-24T20:38:27.930716",
     "status": "completed"
    },
    "tags": []
   },
   "source": [
    "# 3. Joining the dataframes"
   ]
  },
  {
   "cell_type": "code",
   "execution_count": 8,
   "id": "45d4b82a",
   "metadata": {
    "execution": {
     "iopub.execute_input": "2023-03-24T20:38:27.953832Z",
     "iopub.status.busy": "2023-03-24T20:38:27.953297Z",
     "iopub.status.idle": "2023-03-24T20:38:28.228343Z",
     "shell.execute_reply": "2023-03-24T20:38:28.226801Z"
    },
    "papermill": {
     "duration": 0.287703,
     "end_time": "2023-03-24T20:38:28.231208",
     "exception": false,
     "start_time": "2023-03-24T20:38:27.943505",
     "status": "completed"
    },
    "tags": []
   },
   "outputs": [
    {
     "data": {
      "text/html": [
       "<div>\n",
       "<style scoped>\n",
       "    .dataframe tbody tr th:only-of-type {\n",
       "        vertical-align: middle;\n",
       "    }\n",
       "\n",
       "    .dataframe tbody tr th {\n",
       "        vertical-align: top;\n",
       "    }\n",
       "\n",
       "    .dataframe thead th {\n",
       "        text-align: right;\n",
       "    }\n",
       "</style>\n",
       "<table border=\"1\" class=\"dataframe\">\n",
       "  <thead>\n",
       "    <tr style=\"text-align: right;\">\n",
       "      <th></th>\n",
       "      <th>ID</th>\n",
       "      <th>Name</th>\n",
       "      <th>Sex</th>\n",
       "      <th>Age</th>\n",
       "      <th>Height</th>\n",
       "      <th>Weight</th>\n",
       "      <th>Team</th>\n",
       "      <th>NOC</th>\n",
       "      <th>Games</th>\n",
       "      <th>Year</th>\n",
       "      <th>Season</th>\n",
       "      <th>City</th>\n",
       "      <th>Sport</th>\n",
       "      <th>Event</th>\n",
       "      <th>Medal</th>\n",
       "      <th>region</th>\n",
       "      <th>notes</th>\n",
       "    </tr>\n",
       "  </thead>\n",
       "  <tbody>\n",
       "    <tr>\n",
       "      <th>0</th>\n",
       "      <td>1</td>\n",
       "      <td>A Dijiang</td>\n",
       "      <td>M</td>\n",
       "      <td>24.0</td>\n",
       "      <td>180.0</td>\n",
       "      <td>80.0</td>\n",
       "      <td>China</td>\n",
       "      <td>CHN</td>\n",
       "      <td>1992 Summer</td>\n",
       "      <td>1992</td>\n",
       "      <td>Summer</td>\n",
       "      <td>Barcelona</td>\n",
       "      <td>Basketball</td>\n",
       "      <td>Basketball Men's Basketball</td>\n",
       "      <td>NaN</td>\n",
       "      <td>China</td>\n",
       "      <td>NaN</td>\n",
       "    </tr>\n",
       "    <tr>\n",
       "      <th>1</th>\n",
       "      <td>2</td>\n",
       "      <td>A Lamusi</td>\n",
       "      <td>M</td>\n",
       "      <td>23.0</td>\n",
       "      <td>170.0</td>\n",
       "      <td>60.0</td>\n",
       "      <td>China</td>\n",
       "      <td>CHN</td>\n",
       "      <td>2012 Summer</td>\n",
       "      <td>2012</td>\n",
       "      <td>Summer</td>\n",
       "      <td>London</td>\n",
       "      <td>Judo</td>\n",
       "      <td>Judo Men's Extra-Lightweight</td>\n",
       "      <td>NaN</td>\n",
       "      <td>China</td>\n",
       "      <td>NaN</td>\n",
       "    </tr>\n",
       "    <tr>\n",
       "      <th>2</th>\n",
       "      <td>3</td>\n",
       "      <td>Gunnar Nielsen Aaby</td>\n",
       "      <td>M</td>\n",
       "      <td>24.0</td>\n",
       "      <td>NaN</td>\n",
       "      <td>NaN</td>\n",
       "      <td>Denmark</td>\n",
       "      <td>DEN</td>\n",
       "      <td>1920 Summer</td>\n",
       "      <td>1920</td>\n",
       "      <td>Summer</td>\n",
       "      <td>Antwerpen</td>\n",
       "      <td>Football</td>\n",
       "      <td>Football Men's Football</td>\n",
       "      <td>NaN</td>\n",
       "      <td>Denmark</td>\n",
       "      <td>NaN</td>\n",
       "    </tr>\n",
       "    <tr>\n",
       "      <th>3</th>\n",
       "      <td>4</td>\n",
       "      <td>Edgar Lindenau Aabye</td>\n",
       "      <td>M</td>\n",
       "      <td>34.0</td>\n",
       "      <td>NaN</td>\n",
       "      <td>NaN</td>\n",
       "      <td>Denmark/Sweden</td>\n",
       "      <td>DEN</td>\n",
       "      <td>1900 Summer</td>\n",
       "      <td>1900</td>\n",
       "      <td>Summer</td>\n",
       "      <td>Paris</td>\n",
       "      <td>Tug-Of-War</td>\n",
       "      <td>Tug-Of-War Men's Tug-Of-War</td>\n",
       "      <td>Gold</td>\n",
       "      <td>Denmark</td>\n",
       "      <td>NaN</td>\n",
       "    </tr>\n",
       "    <tr>\n",
       "      <th>4</th>\n",
       "      <td>5</td>\n",
       "      <td>Christine Jacoba Aaftink</td>\n",
       "      <td>F</td>\n",
       "      <td>21.0</td>\n",
       "      <td>185.0</td>\n",
       "      <td>82.0</td>\n",
       "      <td>Netherlands</td>\n",
       "      <td>NED</td>\n",
       "      <td>1988 Winter</td>\n",
       "      <td>1988</td>\n",
       "      <td>Winter</td>\n",
       "      <td>Calgary</td>\n",
       "      <td>Speed Skating</td>\n",
       "      <td>Speed Skating Women's 500 metres</td>\n",
       "      <td>NaN</td>\n",
       "      <td>Netherlands</td>\n",
       "      <td>NaN</td>\n",
       "    </tr>\n",
       "  </tbody>\n",
       "</table>\n",
       "</div>"
      ],
      "text/plain": [
       "   ID                      Name Sex   Age  Height  Weight            Team  \\\n",
       "0   1                 A Dijiang   M  24.0   180.0    80.0           China   \n",
       "1   2                  A Lamusi   M  23.0   170.0    60.0           China   \n",
       "2   3       Gunnar Nielsen Aaby   M  24.0     NaN     NaN         Denmark   \n",
       "3   4      Edgar Lindenau Aabye   M  34.0     NaN     NaN  Denmark/Sweden   \n",
       "4   5  Christine Jacoba Aaftink   F  21.0   185.0    82.0     Netherlands   \n",
       "\n",
       "   NOC        Games  Year  Season       City          Sport  \\\n",
       "0  CHN  1992 Summer  1992  Summer  Barcelona     Basketball   \n",
       "1  CHN  2012 Summer  2012  Summer     London           Judo   \n",
       "2  DEN  1920 Summer  1920  Summer  Antwerpen       Football   \n",
       "3  DEN  1900 Summer  1900  Summer      Paris     Tug-Of-War   \n",
       "4  NED  1988 Winter  1988  Winter    Calgary  Speed Skating   \n",
       "\n",
       "                              Event Medal       region notes  \n",
       "0       Basketball Men's Basketball   NaN        China   NaN  \n",
       "1      Judo Men's Extra-Lightweight   NaN        China   NaN  \n",
       "2           Football Men's Football   NaN      Denmark   NaN  \n",
       "3       Tug-Of-War Men's Tug-Of-War  Gold      Denmark   NaN  \n",
       "4  Speed Skating Women's 500 metres   NaN  Netherlands   NaN  "
      ]
     },
     "execution_count": 8,
     "metadata": {},
     "output_type": "execute_result"
    }
   ],
   "source": [
    "merged = pd.merge(data, regions, on='NOC', how='left')\n",
    "merged.head()"
   ]
  },
  {
   "cell_type": "markdown",
   "id": "54d6d287",
   "metadata": {
    "papermill": {
     "duration": 0.006619,
     "end_time": "2023-03-24T20:38:28.244829",
     "exception": false,
     "start_time": "2023-03-24T20:38:28.238210",
     "status": "completed"
    },
    "tags": []
   },
   "source": [
    "# Women in Athletics"
   ]
  },
  {
   "cell_type": "markdown",
   "id": "4b26f4a4",
   "metadata": {
    "papermill": {
     "duration": 0.006701,
     "end_time": "2023-03-24T20:38:28.258421",
     "exception": false,
     "start_time": "2023-03-24T20:38:28.251720",
     "status": "completed"
    },
    "tags": []
   },
   "source": [
    "We want to know how much medals we have only for women of the Winter Games:"
   ]
  },
  {
   "cell_type": "code",
   "execution_count": 9,
   "id": "d3272319",
   "metadata": {
    "execution": {
     "iopub.execute_input": "2023-03-24T20:38:28.274671Z",
     "iopub.status.busy": "2023-03-24T20:38:28.274085Z",
     "iopub.status.idle": "2023-03-24T20:38:28.993776Z",
     "shell.execute_reply": "2023-03-24T20:38:28.992501Z"
    },
    "papermill": {
     "duration": 0.731412,
     "end_time": "2023-03-24T20:38:28.996831",
     "exception": false,
     "start_time": "2023-03-24T20:38:28.265419",
     "status": "completed"
    },
    "tags": []
   },
   "outputs": [
    {
     "data": {
      "text/plain": [
       "Text(0.5, 1.0, 'Women medals')"
      ]
     },
     "execution_count": 9,
     "metadata": {},
     "output_type": "execute_result"
    },
    {
     "data": {
      "image/png": "[encoded data removed]",
      "text/plain": [
       "<Figure size 2000x1000 with 1 Axes>"
      ]
     },
     "metadata": {},
     "output_type": "display_data"
    }
   ],
   "source": [
    "winterGames = merged[(merged.Sex == 'F') & (merged.Season == 'Winter')]\n",
    "plt.figure(figsize=(20, 10))\n",
    "sns.countplot(x='Year', data=winterGames)\n",
    "plt.title('Women medals')"
   ]
  },
  {
   "cell_type": "markdown",
   "id": "466bd4cc",
   "metadata": {
    "papermill": {
     "duration": 0.009206,
     "end_time": "2023-03-24T20:38:29.014796",
     "exception": false,
     "start_time": "2023-03-24T20:38:29.005590",
     "status": "completed"
    },
    "tags": []
   },
   "source": [
    "# To see the percentage of participating ages:"
   ]
  },
  {
   "cell_type": "code",
   "execution_count": 10,
   "id": "adbd868c",
   "metadata": {
    "execution": {
     "iopub.execute_input": "2023-03-24T20:38:29.033173Z",
     "iopub.status.busy": "2023-03-24T20:38:29.032728Z",
     "iopub.status.idle": "2023-03-24T20:38:30.442943Z",
     "shell.execute_reply": "2023-03-24T20:38:30.441248Z"
    },
    "papermill": {
     "duration": 1.423126,
     "end_time": "2023-03-24T20:38:30.446166",
     "exception": false,
     "start_time": "2023-03-24T20:38:29.023040",
     "status": "completed"
    },
    "tags": []
   },
   "outputs": [
    {
     "name": "stderr",
     "output_type": "stream",
     "text": [
      "/opt/conda/lib/python3.7/site-packages/ipykernel_launcher.py:3: UserWarning: \n",
      "\n",
      "`distplot` is a deprecated function and will be removed in seaborn v0.14.0.\n",
      "\n",
      "Please adapt your code to use either `displot` (a figure-level function with\n",
      "similar flexibility) or `histplot` (an axes-level function for histograms).\n",
      "\n",
      "For a guide to updating your code to use the new functions, please see\n",
      "https://gist.github.com/mwaskom/de44147ed2974457ad6372750bbe5751\n",
      "\n",
      "  This is separate from the ipykernel package so we can avoid doing imports until\n"
     ]
    },
    {
     "data": {
      "text/plain": [
       "<AxesSubplot:xlabel='Age', ylabel='Density'>"
      ]
     },
     "execution_count": 10,
     "metadata": {},
     "output_type": "execute_result"
    },
    {
     "data": {
      "image/png": "[encoded data removed]",
      "text/plain": [
       "<Figure size 700x500 with 1 Axes>"
      ]
     },
     "metadata": {},
     "output_type": "display_data"
    }
   ],
   "source": [
    "f, ax = plt.subplots(figsize=(7, 5))\n",
    "sns.despine(f)\n",
    "sns.distplot(merged['Age'], bins=20)"
   ]
  },
  {
   "cell_type": "markdown",
   "id": "01db5359",
   "metadata": {
    "papermill": {
     "duration": 0.008521,
     "end_time": "2023-03-24T20:38:30.463467",
     "exception": false,
     "start_time": "2023-03-24T20:38:30.454946",
     "status": "completed"
    },
    "tags": []
   },
   "source": [
    "# Top 3 countries:"
   ]
  },
  {
   "cell_type": "code",
   "execution_count": 11,
   "id": "cd31cb07",
   "metadata": {
    "execution": {
     "iopub.execute_input": "2023-03-24T20:38:30.484584Z",
     "iopub.status.busy": "2023-03-24T20:38:30.484141Z",
     "iopub.status.idle": "2023-03-24T20:38:30.851840Z",
     "shell.execute_reply": "2023-03-24T20:38:30.849732Z"
    },
    "papermill": {
     "duration": 0.381835,
     "end_time": "2023-03-24T20:38:30.855330",
     "exception": false,
     "start_time": "2023-03-24T20:38:30.473495",
     "status": "completed"
    },
    "tags": []
   },
   "outputs": [
    {
     "data": {
      "text/plain": [
       "Text(0.5, 1.0, 'Medals per Country')"
      ]
     },
     "execution_count": 11,
     "metadata": {},
     "output_type": "execute_result"
    },
    {
     "data": {
      "image/png": "[encoded data removed]",
      "text/plain": [
       "<Figure size 600x600 with 1 Axes>"
      ]
     },
     "metadata": {},
     "output_type": "display_data"
    }
   ],
   "source": [
    "goldMedals = merged[(merged.Medal == 'Gold')]\n",
    "totalGoldMedals = goldMedals.region.value_counts().reset_index(name='Medal').head(3)\n",
    "g = sns.catplot(x=\"index\", y=\"Medal\", data=totalGoldMedals,\n",
    "                height=6, kind=\"bar\", palette=\"muted\")\n",
    "g.despine(left=True)\n",
    "g.set_xlabels(\"Top 3 countries\")\n",
    "g.set_ylabels(\"Number of Medals\")\n",
    "plt.title('Medals per Country')"
   ]
  },
  {
   "cell_type": "markdown",
   "id": "a684b213",
   "metadata": {
    "papermill": {
     "duration": 0.009478,
     "end_time": "2023-03-24T20:38:30.875019",
     "exception": false,
     "start_time": "2023-03-24T20:38:30.865541",
     "status": "completed"
    },
    "tags": []
   },
   "source": [
    "# Medals per country:"
   ]
  },
  {
   "cell_type": "code",
   "execution_count": 12,
   "id": "3f7f76e4",
   "metadata": {
    "execution": {
     "iopub.execute_input": "2023-03-24T20:38:30.897402Z",
     "iopub.status.busy": "2023-03-24T20:38:30.895897Z",
     "iopub.status.idle": "2023-03-24T20:38:30.915229Z",
     "shell.execute_reply": "2023-03-24T20:38:30.913718Z"
    },
    "papermill": {
     "duration": 0.033879,
     "end_time": "2023-03-24T20:38:30.918134",
     "exception": false,
     "start_time": "2023-03-24T20:38:30.884255",
     "status": "completed"
    },
    "tags": []
   },
   "outputs": [
    {
     "data": {
      "text/html": [
       "<div>\n",
       "<style scoped>\n",
       "    .dataframe tbody tr th:only-of-type {\n",
       "        vertical-align: middle;\n",
       "    }\n",
       "\n",
       "    .dataframe tbody tr th {\n",
       "        vertical-align: top;\n",
       "    }\n",
       "\n",
       "    .dataframe thead th {\n",
       "        text-align: right;\n",
       "    }\n",
       "</style>\n",
       "<table border=\"1\" class=\"dataframe\">\n",
       "  <thead>\n",
       "    <tr style=\"text-align: right;\">\n",
       "      <th></th>\n",
       "      <th>index</th>\n",
       "      <th>Medal</th>\n",
       "    </tr>\n",
       "  </thead>\n",
       "  <tbody>\n",
       "    <tr>\n",
       "      <th>0</th>\n",
       "      <td>USA</td>\n",
       "      <td>2638</td>\n",
       "    </tr>\n",
       "    <tr>\n",
       "      <th>1</th>\n",
       "      <td>Russia</td>\n",
       "      <td>1599</td>\n",
       "    </tr>\n",
       "    <tr>\n",
       "      <th>2</th>\n",
       "      <td>Germany</td>\n",
       "      <td>1301</td>\n",
       "    </tr>\n",
       "    <tr>\n",
       "      <th>3</th>\n",
       "      <td>UK</td>\n",
       "      <td>678</td>\n",
       "    </tr>\n",
       "    <tr>\n",
       "      <th>4</th>\n",
       "      <td>Italy</td>\n",
       "      <td>575</td>\n",
       "    </tr>\n",
       "    <tr>\n",
       "      <th>...</th>\n",
       "      <td>...</td>\n",
       "      <td>...</td>\n",
       "    </tr>\n",
       "    <tr>\n",
       "      <th>94</th>\n",
       "      <td>Bahrain</td>\n",
       "      <td>1</td>\n",
       "    </tr>\n",
       "    <tr>\n",
       "      <th>95</th>\n",
       "      <td>Grenada</td>\n",
       "      <td>1</td>\n",
       "    </tr>\n",
       "    <tr>\n",
       "      <th>96</th>\n",
       "      <td>Jordan</td>\n",
       "      <td>1</td>\n",
       "    </tr>\n",
       "    <tr>\n",
       "      <th>97</th>\n",
       "      <td>Vietnam</td>\n",
       "      <td>1</td>\n",
       "    </tr>\n",
       "    <tr>\n",
       "      <th>98</th>\n",
       "      <td>Mozambique</td>\n",
       "      <td>1</td>\n",
       "    </tr>\n",
       "  </tbody>\n",
       "</table>\n",
       "<p>99 rows × 2 columns</p>\n",
       "</div>"
      ],
      "text/plain": [
       "         index  Medal\n",
       "0          USA   2638\n",
       "1       Russia   1599\n",
       "2      Germany   1301\n",
       "3           UK    678\n",
       "4        Italy    575\n",
       "..         ...    ...\n",
       "94     Bahrain      1\n",
       "95     Grenada      1\n",
       "96      Jordan      1\n",
       "97     Vietnam      1\n",
       "98  Mozambique      1\n",
       "\n",
       "[99 rows x 2 columns]"
      ]
     },
     "execution_count": 12,
     "metadata": {},
     "output_type": "execute_result"
    }
   ],
   "source": [
    "goldMedals.region.value_counts().reset_index(name='Medal')"
   ]
  },
  {
   "cell_type": "markdown",
   "id": "b867a192",
   "metadata": {
    "papermill": {
     "duration": 0.008956,
     "end_time": "2023-03-24T20:38:30.937131",
     "exception": false,
     "start_time": "2023-03-24T20:38:30.928175",
     "status": "completed"
    },
    "tags": []
   },
   "source": [
    "# Which countries WON the maximum Gold Medals in last held Olympic competitions?"
   ]
  },
  {
   "cell_type": "code",
   "execution_count": 13,
   "id": "9c9dba53",
   "metadata": {
    "execution": {
     "iopub.execute_input": "2023-03-24T20:38:30.959252Z",
     "iopub.status.busy": "2023-03-24T20:38:30.958672Z",
     "iopub.status.idle": "2023-03-24T20:38:31.359763Z",
     "shell.execute_reply": "2023-03-24T20:38:31.358549Z"
    },
    "papermill": {
     "duration": 0.415777,
     "end_time": "2023-03-24T20:38:31.362388",
     "exception": false,
     "start_time": "2023-03-24T20:38:30.946611",
     "status": "completed"
    },
    "tags": []
   },
   "outputs": [
    {
     "data": {
      "text/plain": [
       "<AxesSubplot:xlabel='Team'>"
      ]
     },
     "execution_count": 13,
     "metadata": {},
     "output_type": "execute_result"
    },
    {
     "data": {
      "image/png": "[encoded data removed]",
      "text/plain": [
       "<Figure size 640x480 with 1 Axes>"
      ]
     },
     "metadata": {},
     "output_type": "display_data"
    }
   ],
   "source": [
    "max_year = merged.Year.max()\n",
    "team_list = merged[(merged.Year == max_year) & (merged.Medal=='Gold')].Team\n",
    "team_list.value_counts().head(10)\n",
    "sns.barplot(x=team_list.value_counts().head(20), y=team_list.value_counts().head(20).index)"
   ]
  },
  {
   "cell_type": "markdown",
   "id": "f65bd8b7",
   "metadata": {
    "papermill": {
     "duration": 0.009577,
     "end_time": "2023-03-24T20:38:31.381825",
     "exception": false,
     "start_time": "2023-03-24T20:38:31.372248",
     "status": "completed"
    },
    "tags": []
   },
   "source": [
    "# Which sport fetch the most gold medals?"
   ]
  },
  {
   "cell_type": "code",
   "execution_count": 14,
   "id": "12c0a6e6",
   "metadata": {
    "execution": {
     "iopub.execute_input": "2023-03-24T20:38:31.404558Z",
     "iopub.status.busy": "2023-03-24T20:38:31.403734Z",
     "iopub.status.idle": "2023-03-24T20:38:31.450722Z",
     "shell.execute_reply": "2023-03-24T20:38:31.449471Z"
    },
    "papermill": {
     "duration": 0.061453,
     "end_time": "2023-03-24T20:38:31.453175",
     "exception": false,
     "start_time": "2023-03-24T20:38:31.391722",
     "status": "completed"
    },
    "tags": []
   },
   "outputs": [
    {
     "data": {
      "text/html": [
       "<div>\n",
       "<style scoped>\n",
       "    .dataframe tbody tr th:only-of-type {\n",
       "        vertical-align: middle;\n",
       "    }\n",
       "\n",
       "    .dataframe tbody tr th {\n",
       "        vertical-align: top;\n",
       "    }\n",
       "\n",
       "    .dataframe thead th {\n",
       "        text-align: right;\n",
       "    }\n",
       "</style>\n",
       "<table border=\"1\" class=\"dataframe\">\n",
       "  <thead>\n",
       "    <tr style=\"text-align: right;\">\n",
       "      <th></th>\n",
       "      <th>Sport</th>\n",
       "      <th>Medal</th>\n",
       "    </tr>\n",
       "  </thead>\n",
       "  <tbody>\n",
       "    <tr>\n",
       "      <th>8</th>\n",
       "      <td>Swimming</td>\n",
       "      <td>48</td>\n",
       "    </tr>\n",
       "    <tr>\n",
       "      <th>0</th>\n",
       "      <td>Athletics</td>\n",
       "      <td>27</td>\n",
       "    </tr>\n",
       "    <tr>\n",
       "      <th>1</th>\n",
       "      <td>Basketball</td>\n",
       "      <td>24</td>\n",
       "    </tr>\n",
       "    <tr>\n",
       "      <th>10</th>\n",
       "      <td>Water Polo</td>\n",
       "      <td>13</td>\n",
       "    </tr>\n",
       "    <tr>\n",
       "      <th>6</th>\n",
       "      <td>Rowing</td>\n",
       "      <td>9</td>\n",
       "    </tr>\n",
       "  </tbody>\n",
       "</table>\n",
       "</div>"
      ],
      "text/plain": [
       "         Sport  Medal\n",
       "8     Swimming     48\n",
       "0    Athletics     27\n",
       "1   Basketball     24\n",
       "10  Water Polo     13\n",
       "6       Rowing      9"
      ]
     },
     "execution_count": 14,
     "metadata": {},
     "output_type": "execute_result"
    }
   ],
   "source": [
    "US_Gold = merged[(merged.Year == max_year) & (merged.Medal=='Gold') & (merged.Team == 'United States')]\n",
    "US_Gold = US_Gold[['Sport','Medal']].groupby('Sport').count()\n",
    "US_Gold.reset_index(inplace=True)\n",
    "Top_sports = US_Gold.sort_values('Medal', ascending=False)\n",
    "Top_sports.head()"
   ]
  }
 ],
 "metadata": {
  "kernelspec": {
   "display_name": "Python 3",
   "language": "python",
   "name": "python3"
  },
  "language_info": {
   "codemirror_mode": {
    "name": "ipython",
    "version": 3
   },
   "file_extension": ".py",
   "mimetype": "text/x-python",
   "name": "python",
   "nbconvert_exporter": "python",
   "pygments_lexer": "ipython3",
   "version": "3.7.12"
  },
  "papermill": {
   "default_parameters": {},
   "duration": 19.108925,
   "end_time": "2023-03-24T20:38:32.589747",
   "environment_variables": {},
   "exception": null,
   "input_path": "__notebook__.ipynb",
   "output_path": "__notebook__.ipynb",
   "parameters": {},
   "start_time": "2023-03-24T20:38:13.480822",
   "version": "2.4.0"
  }
 },
 "nbformat": 4,
 "nbformat_minor": 5
}
